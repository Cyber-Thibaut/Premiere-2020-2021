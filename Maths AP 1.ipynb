{
  "metadata": {
    "language_info": {
      "mimetype": "text/x-python",
      "nbconvert_exporter": "python",
      "name": "python",
      "pygments_lexer": "ipython3",
      "version": "3.6.6",
      "file_extension": ".py",
      "codemirror_mode": {
        "version": 3,
        "name": "ipython"
      }
    },
    "kernelspec": {
      "name": "python36",
      "display_name": "Python 3.6",
      "language": "python"
    }
  },
  "nbformat_minor": 2,
  "nbformat": 4,
  "cells": [
    {
      "cell_type": "markdown",
      "source": "# Maths",
      "metadata": {}
    },
    {
      "cell_type": "code",
      "source": "a=2\nb=3*a+5",
      "metadata": {
        "trusted": true
      },
      "execution_count": 1,
      "outputs": []
    },
    {
      "cell_type": "code",
      "source": "print ('b =',b)",
      "metadata": {
        "trusted": true
      },
      "execution_count": 2,
      "outputs": [
        {
          "text": "b = 11\n",
          "name": "stdout",
          "output_type": "stream"
        }
      ]
    },
    {
      "cell_type": "markdown",
      "source": "## Algorythme 1 :",
      "metadata": {}
    },
    {
      "cell_type": "code",
      "source": "a=7\nb=6*a\nc=a+b\nd=b-c\nprint ('d =',d)",
      "metadata": {
        "trusted": true
      },
      "execution_count": 3,
      "outputs": [
        {
          "text": "d = -7\n",
          "name": "stdout",
          "output_type": "stream"
        }
      ]
    },
    {
      "cell_type": "markdown",
      "source": "## Algorythme 2 :",
      "metadata": {}
    },
    {
      "cell_type": "code",
      "source": "m=2\nn=4\na=m*n\nb=m+n\nc=a/b\nprint ('c =',c)",
      "metadata": {
        "trusted": true
      },
      "execution_count": 4,
      "outputs": [
        {
          "text": "c = 1.3333333333333333\n",
          "name": "stdout",
          "output_type": "stream"
        }
      ]
    },
    {
      "cell_type": "markdown",
      "source": "## Algorythme 3 :",
      "metadata": {}
    },
    {
      "cell_type": "code",
      "source": "a=-1\nb=6\np=b**a\nq=p**a\nprint ('p =',p)\nprint ('q =',q)",
      "metadata": {
        "trusted": true
      },
      "execution_count": 5,
      "outputs": [
        {
          "text": "p = 0.16666666666666666\nq = 6.0\n",
          "name": "stdout",
          "output_type": "stream"
        }
      ]
    }
  ]
}