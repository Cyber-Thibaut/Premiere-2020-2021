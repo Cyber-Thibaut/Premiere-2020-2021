{
  "metadata": {
    "kernelspec": {
      "display_name": "Python 3.6",
      "name": "python36",
      "language": "python"
    },
    "language_info": {
      "mimetype": "text/x-python",
      "nbconvert_exporter": "python",
      "name": "python",
      "pygments_lexer": "ipython3",
      "version": "3.6.6",
      "file_extension": ".py",
      "codemirror_mode": {
        "version": 3,
        "name": "ipython"
      }
    }
  },
  "nbformat_minor": 2,
  "nbformat": 4,
  "cells": [
    {
      "cell_type": "code",
      "source": "from math import *\nfrom cmath import *\nfrom random import *\nfrom time import *\ndef jeu1():\n  print(\"Le numero secret\")\n  x=randrange(0,10)\n  a=int(input(\"a?\"))\n  b=1\n  while a!=x:\n    if a>x:\n      b=b+1\n      print(a,\">=x\")\n    elif a<x:\n      b=b+1\n      print(a,\"<=x\")\n    else:\n      print(\"bravo\")\n    a=int(input(\"a?\"))\n  if a==x:\n    print(\"bravo!\")\n    print(a,\"=\",x)\ndef jeu2():\n  print(\"Bataille navale\")\n  x=[\"A\",\"B\",\"C\",\"D\",\"E\",\"F\"]\n  y=[1,2,3,4,5,6,7,8]\n  z=choice(x)\n  t=choice(y)\n  w=input(\"lettre\")\n  v=int(input(\"chiffre\"))\n  while z!=w or t!=v:\n    if z==w:\n      sleep(0.1)\n      print(\"bonne lettre\")\n    else:\n      sleep(0.1)\n      print(\"mauvaise lettre\")\n    if t==v:\n      sleep(0.1)\n      print(\"bon chiffre\")\n    else:\n      sleep(0.1)\n      print(\"mauvais chiffre\")\n    w=input(\"lettre→\")\n    v=int(input(\"chiffre→\"))\n  if z==w and t==v:\n    sleep(0.1)\n    print(\"TOUCHE! COULE!\")\n    print(\"Mon bateau se trouvait en {}{}\".format(z,t))\n\ndef jeu3():\n  print(\"\")",
      "metadata": {
        "collapsed": true,
        "trusted": true
      },
      "execution_count": 1,
      "outputs": []
    },
    {
      "cell_type": "code",
      "source": "jeu1()",
      "metadata": {
        "trusted": true
      },
      "execution_count": 2,
      "outputs": [
        {
          "text": "Le numero secret\nbravo!\n2 = 2\n",
          "name": "stdout",
          "output_type": "stream"
        }
      ]
    },
    {
      "cell_type": "code",
      "source": "jeu2()",
      "metadata": {
        "trusted": true
      },
      "execution_count": 3,
      "outputs": [
        {
          "text": "Bataille navale\nmauvaise lettre\nmauvais chiffre\nmauvaise lettre\nmauvais chiffre\nmauvaise lettre\nmauvais chiffre\nbonne lettre\nmauvais chiffre\nTOUCHE! COULE!\nMon bateau se trouvait en D6\n",
          "name": "stdout",
          "output_type": "stream"
        }
      ]
    },
    {
      "cell_type": "code",
      "source": "",
      "metadata": {},
      "execution_count": null,
      "outputs": []
    }
  ]
}